{
 "cells": [
  {
   "cell_type": "markdown",
   "metadata": {},
   "source": [
    "## 이번주 목표__이미지 변환          \n",
    "---     \n",
    "\n",
    "1. 이미지 사이즈 변환         \n",
    "2. 대칭, 회전 변환      \n",
    "3. 기하학적 변환   \n",
    "4. 모폴로지 변환       "
   ]
  },
  {
   "cell_type": "markdown",
   "metadata": {},
   "source": [
    "## 1. 이미지 사이즈 변환            \n",
    "---\n",
    "\n",
    "1. 이미지 변환 또한, 변형과 동일하게 전처리 과정으로 주로 활용된다.       \n",
    "2. 이미지 변형은 데이터가 감소하지는 않지만, 이미지를 해석하기 위해 특징을 검출하기 쉬운 데이터로 만드는 것이다.       \n",
    "3. __이미지 변환은 이미지 데이터의 갯수를 늘리거나 줄여 알고리즘 연산량을 줄이는 것을 주 목적으로 삼는다.__        "
   ]
  },
  {
   "cell_type": "markdown",
   "metadata": {},
   "source": [
    "> 이미지 변환을 유형별로 분류하면 다음과 같다."
   ]
  },
  {
   "cell_type": "markdown",
   "metadata": {},
   "source": [
    "1. 강체(Rigid) 변환        \n",
    "2. 유사(Similarity) 변환       \n",
    "3. 선형(Linear) 변환       \n",
    "4. 아핀(Affine) 변환       \n",
    "5. 원근(Perspective Transformation) 변환     "
   ]
  },
  {
   "cell_type": "markdown",
   "metadata": {},
   "source": [
    "![변환바운더리](./PostingPic/6_변환바운더리.png)"
   ]
  },
  {
   "cell_type": "markdown",
   "metadata": {},
   "source": [
    "- 강체 변환(유클리디언 변환) : 변환 기준점으로부터 크기와 각도가 보존되는 변환 -> 평행이동, 회전   \n",
    "    - 강체 : 강체(剛體, Rigid body)란 물리학에서 형태가 고정되어 변하지 않는 물체를 가리킨다.\n",
    "- 유사 변환 : 강체변환 + 크기 변환          \n",
    "- 선형 변환 : 벡터 공간에서의 이동        \n",
    "- 아핀 변환 : 선형 변환 + 이동 변환 "
   ]
  },
  {
   "cell_type": "markdown",
   "metadata": {},
   "source": [
    "### 1. 확대&축소             \n",
    "---\n",
    "\n",
    "1. 입력 이미지가 항상 동일한 크기는 아니다. 따라서, 이미지의 크기를 변경하여 처리를 진행해야 할 때가 있다.     \n",
    "2. 이미지 확대와 축소는 __이미지 피라미드__ 를 활용해 __이미지의 크기를 원하는 단계까지 샘플링하는 작업__ 이다.     \n",
    "\n",
    "![이미지피라미드](./PostingPic/6_이미지피라미드.png)\n",
    "\n",
    "- 업샘플링 : 원본 이미지에서 크기를 확대하는 것(하위 단계의 이미지 생성)        \n",
    "- 다운샘플링 : 원본 이미지에서 크기를 축소하는 것(상위 단계의 이미지 생성)         \n",
    "\n",
    "#### 이러한 이미지 피라미드의 종류로는 가우시안 피라미드와 라플라시안 피라미드가 있다.          "
   ]
  },
  {
   "cell_type": "markdown",
   "metadata": {},
   "source": [
    "1. 가우시안 피라미드 :        \n",
    "    - 업샘플링/다운샘플링 사용         \n",
    "    - 업샘플링 : 입력 이미지에 새로운 행과 열을 추가하여 짝수 행과 짝수 열로 만들어 하위 이미지를 만든다. (M*N -> 2M*2N)      \n",
    "    - 다운샘플링 : 짝수 행과 열을 제거해서 상위 이미지를 만든다. (M*N -> M/2 * N/2)       \n",
    "    - __단계마다 이미지 면적의 차이는 4배가 된다.__    \n",
    "    \n",
    "    \n",
    "    - 이러한 연산은 서로 역연산처럼 보이지만, 그렇지 않다.(없는 데이터를 생성 vs 있는 데이터를 제거)       \n",
    "    - 업샘플링 후 다시 다운샘플링하면, 이미지 피라미드가 적용된 이미지는 원본 이미지와 동일한 데이터를 갖고 있지 않다.       "
   ]
  },
  {
   "cell_type": "markdown",
   "metadata": {},
   "source": [
    "2. 라플라시안 피라미드 :       \n",
    "    - 감산 영상을 통해 생성     \n",
    "    \n",
    "    > $G_0 = Image$      \n",
    "    > $G_{i+1} = Down(G_i)$       \n",
    "    > $L_i = G_i - Up(G_{i+1})$\n",
    "    "
   ]
  },
  {
   "cell_type": "markdown",
   "metadata": {},
   "source": [
    "- 감산 연산 \n",
    "- 이미지 경계선을 찾고, 그것을 단서로 이미지를 압축한다."
   ]
  },
  {
   "cell_type": "markdown",
   "metadata": {},
   "source": [
    "### 이미지 확대            "
   ]
  },
  {
   "cell_type": "markdown",
   "metadata": {},
   "source": [
    "> Q1. python opencv의 이미지 확대 함수는 어떻게 표현되나요?"
   ]
  },
  {
   "cell_type": "markdown",
   "metadata": {},
   "source": [
    "### 이미지 축소"
   ]
  },
  {
   "cell_type": "markdown",
   "metadata": {},
   "source": [
    "> Q2. python opencv 이미지 축소 함수는 어떻게 표현되나요?"
   ]
  },
  {
   "cell_type": "markdown",
   "metadata": {},
   "source": [
    "> Q3. 하나의 이미지를 불러와, 예제 6.2(python opencv에서의 이미지 축소)를 시험해보세요."
   ]
  },
  {
   "cell_type": "markdown",
   "metadata": {},
   "source": [
    "### 이미지 크기 조절          \n",
    "\n",
    "- 이미지 크기 변형은 단순한 연산이 아니다.        \n",
    "- __이미지를 확대하는 경우 픽셀에 대한 보간법, 이미지를 축소하는 경우 픽셀에 대한 병합법이 수행된다.__       \n",
    "- 앞에서 수행한 이미지 확대/축소의 경우, 2배 확대/축소만 가능하므로 일반적으로 다른 함수를 활용하여 이미지 크기를 조절해야 한다.     \n",
    "\n",
    "1. 이 이미지 크기 조절 함수는 사용자가 원하는 크기로 이미지를 변환한다.       \n",
    "     - __이미지의 크기를 사용자가 원하는 절대 크기로 변경하는 것__    \n",
    "     - __이미지의 크기를 비율에 맞게 상대 크기로 변경하는 것__  "
   ]
  },
  {
   "cell_type": "markdown",
   "metadata": {},
   "source": [
    "> Q4. python opencv의 이미지 크기 조절 함수는 어떻게 표현되나요?"
   ]
  },
  {
   "cell_type": "markdown",
   "metadata": {},
   "source": [
    "#### interpolation(보간법)    \n",
    "\n",
    "- 이미지 피라미드는 변경될 크기가 고정되어 있어 가우시안/라플라시안 피라미드를 통해 처리할 수 있지만,       \n",
    "- 이미지 크기 조절 함수는 어떤 크기로 변환될 지 알 수 없으므로 보간법을 활용한다.      \n",
    "\n",
    "- 이미지의 비율을 변경하면 __존재하지 않는 영역에 새로운 픽셀값을 매핑하거나 존재하는 픽셀을 압축해서 새 값을 할당해야 한다.__   \n",
    "- 이는 이미지 상에 존재하는 픽셀 데이터 $(x_i, y_i)$에 대한 근사함수 $f(x,y)$를 구하여 새로운 함수 값을 구하는 것으로 이해할 수 있다.    \n",
    "\n",
    "1. 이미지 확대 : 이미 있는 픽셀들을 결과 이미지의 새 좌표로 매핑하고, 군데군데 빈 값을 보간을 통해 메꿔준다.         \n",
    "2. 이미지 축소 : 입력 이미지의 픽셀이 결과 이미지의 좌표로 매핑될 때, 가장 근사값을 갖는 좌표로 픽셀값이 매핑된다.    \n",
    "3. 하지만 이 때 사용되는 픽셀들은 __대부분 분수 픽셀(실수 좌표의 픽셀) 이다.__       \n",
    "4. 그러므로, 새 값을 찾을 때 보간법의 유형에 따라 어떤 값으로 메꿀지가 결정된다.        \n",
    "\n"
   ]
  },
  {
   "cell_type": "markdown",
   "metadata": {},
   "source": [
    "> Q5. 이미지를 불러와 사이즈를 조절해보세요.(예제 6.4(python opencv의 이미지 크기 조절))"
   ]
  },
  {
   "cell_type": "markdown",
   "metadata": {},
   "source": [
    "## 2. 대칭&회전             \n",
    "---\n",
    "\n",
    "- 대칭은 기하학적인 측면에서 __반사(reflection)의 의미를 갖는다.__          \n",
    "- 대칭은 변환할 행렬에 대해 2*2 행렬을 왼쪽 곱셈한다. 즉, 'p'형태의 그림에 Y축 대칭을 적용해 'q'를 만든다.        "
   ]
  },
  {
   "cell_type": "markdown",
   "metadata": {},
   "source": [
    "> Q6. python opencv의 대칭 함수는 어떻게 표현되나요?"
   ]
  },
  {
   "cell_type": "markdown",
   "metadata": {},
   "source": [
    "> Q7. 예제 6.6(python opencv)을 테스트하여 이미지를 대칭/회전시켜보세요."
   ]
  },
  {
   "cell_type": "markdown",
   "metadata": {},
   "source": [
    "## 3. 기하학적 변환         \n",
    "---\n",
    "\n",
    "- __기하학적 변환이란, 이미지를 인위적으로 확대, 축소, 위치변경, 회전, 왜곡하는 등 이미지의 형태를 변환하는 것을 의미한다.__      \n",
    "- == 이미지를 구성하는 픽셀 좌표값의 위치를 재배치하는 과정이다.         \n",
    "\n",
    "- 이차원 공간에서의 기하학적 변환에는     \n",
    "    1. 아핀 변환(Affine Transformation)        \n",
    "    2. 원근 변환(Perspective Transformation)        \n",
    "    이 해당된다.          \n",
    "    \n",
    "    \n",
    "### 아핀 변환(Affine)              \n",
    "\n",
    "- 아핀 변환 행렬의 기본적인 변환 형태는 3*3 형태이다.        \n",
    "- 하지만, 아핀 변환은 __선의 수평성을 유지하며, 변환 전에 서로 평행했던 선은 변환 후에도 평행하다.__       \n",
    "\n",
    "![아핀변환](./PostingPic/6_affine.jpg)          "
   ]
  },
  {
   "cell_type": "markdown",
   "metadata": {},
   "source": [
    "> Q8. python opencv의 아핀 변환 함수는 어떻게 생겼나요?"
   ]
  },
  {
   "cell_type": "markdown",
   "metadata": {},
   "source": [
    "> Q17. affine 변환 예제를 확인하고, 4가지 예제 중 하나를 골라 이미지에 적용해보세요."
   ]
  },
  {
   "cell_type": "code",
   "execution_count": null,
   "metadata": {},
   "outputs": [],
   "source": [
    "import numpy as np\n",
    "import cv2\n",
    "\n",
    "\n",
    "def affine_transform():\n",
    "    src = cv2.imread('tekapo.bmp')\n",
    "\n",
    "    if src is None:\n",
    "        print('Image load failed!')\n",
    "        return\n",
    "\n",
    "    rows = src.shape[0]\n",
    "    cols = src.shape[1]\n",
    "\n",
    "    src_pts = np.array([[0, 0],\n",
    "                        [cols - 1, 0],\n",
    "                        [cols - 1, rows - 1]]).astype(np.float32)\n",
    "    dst_pts = np.array([[50, 50],\n",
    "                        [cols - 100, 100],\n",
    "                        [cols - 50, rows - 50]]).astype(np.float32)\n",
    "\n",
    "    affine_mat = cv2.getAffineTransform(src_pts, dst_pts)\n",
    "\n",
    "    dst = cv2.warpAffine(src, affine_mat, (0, 0))\n",
    "\n",
    "    cv2.imshow('src', src)\n",
    "    cv2.imshow('dst', dst)\n",
    "    cv2.waitKey()\n",
    "    cv2.destroyAllWindows()\n",
    "\n",
    "\n",
    "def affine_translation():\n",
    "    src = cv2.imread('tekapo.bmp')\n",
    "\n",
    "    if src is None:\n",
    "        print('Image load failed!')\n",
    "        return\n",
    "\n",
    "    affine_mat = np.array([[1, 0, 150],\n",
    "                           [0, 1, 100]]).astype(np.float32)\n",
    "\n",
    "    dst = cv2.warpAffine(src, affine_mat, (0, 0))\n",
    "\n",
    "    cv2.imshow('src', src)\n",
    "    cv2.imshow('dst', dst)\n",
    "    cv2.waitKey()\n",
    "    cv2.destroyAllWindows()\n",
    "\n",
    "\n",
    "def affine_shear():\n",
    "    src = cv2.imread('tekapo.bmp')\n",
    "\n",
    "    if src is None:\n",
    "        print('Image load failed!')\n",
    "        return\n",
    "\n",
    "    rows = src.shape[0]\n",
    "    cols = src.shape[1]\n",
    "\n",
    "    mx = 0.3\n",
    "    affine_mat = np.array([[1, mx, 0],\n",
    "                           [0, 1, 0]]).astype(np.float32)\n",
    "\n",
    "    dst = cv2.warpAffine(src, affine_mat, (int(cols + rows * mx), rows))\n",
    "\n",
    "    cv2.imshow('src', src)\n",
    "    cv2.imshow('dst', dst)\n",
    "    cv2.waitKey()\n",
    "    cv2.destroyAllWindows()\n",
    "\n",
    "\n",
    "def affine_scale():\n",
    "    src = cv2.imread('rose.bmp')\n",
    "\n",
    "    if src is None:\n",
    "        print('Image load failed!')\n",
    "        return\n",
    "\n",
    "    dst1 = cv2.resize(src, (0, 0), fx=4, fy=4, interpolation=cv2.INTER_NEAREST)\n",
    "    dst2 = cv2.resize(src, (1920, 1280))\n",
    "    dst3 = cv2.resize(src, (1920, 1280), interpolation=cv2.INTER_CUBIC)\n",
    "    dst4 = cv2.resize(src, (1920, 1280), interpolation=cv2.INTER_LANCZOS4)\n",
    "\n",
    "    cv2.imshow('src', src)\n",
    "    cv2.imshow('dst1', dst1[400:800, 500:900])\n",
    "    cv2.imshow('dst2', dst2[400:800, 500:900])\n",
    "    cv2.imshow('dst3', dst3[400:800, 500:900])\n",
    "    cv2.imshow('dst4', dst4[400:800, 500:900])\n",
    "    cv2.waitKey()\n",
    "    cv2.destroyAllWindows()\n",
    "\n",
    "\n",
    "def affine_rotation():\n",
    "    src = cv2.imread('tekapo.bmp')\n",
    "\n",
    "    if src is None:\n",
    "        print('Image load failed!')\n",
    "        return\n",
    "\n",
    "    cp = (src.shape[1] / 2, src.shape[0] / 2)\n",
    "    affine_mat = cv2.getRotationMatrix2D(cp, 20, 1)\n",
    "\n",
    "    dst = cv2.warpAffine(src, affine_mat, (0, 0))\n",
    "\n",
    "    cv2.imshow('src', src)\n",
    "    cv2.imshow('dst', dst)\n",
    "    cv2.waitKey()\n",
    "    cv2.destroyAllWindows()\n",
    "\n",
    "\n",
    "def affine_flip():\n",
    "    src = cv2.imread('eastsea.bmp')\n",
    "\n",
    "    if src is None:\n",
    "        print('Image load failed!')\n",
    "        return\n",
    "\n",
    "    cv2.imshow('src', src)\n",
    "\n",
    "    for flip_code in [1, 0, -1]:\n",
    "        dst = cv2.flip(src, flip_code)\n",
    "\n",
    "        desc = 'flipCode: %d' % flip_code\n",
    "        cv2.putText(dst, desc, (10, 30), cv2.FONT_HERSHEY_SIMPLEX,\n",
    "                   1.0, (255, 0, 0), 1, cv2.LINE_AA)\n",
    "\n",
    "        cv2.imshow('dst', dst)\n",
    "        cv2.waitKey()\n",
    "\n",
    "    cv2.destroyAllWindows()\n",
    "\n",
    "\n",
    "if __name__ == '__main__':\n",
    "    affine_transform()\n",
    "    affine_translation()\n",
    "    affine_shear()\n",
    "    affine_scale()\n",
    "    affine_rotation()\n",
    "    affine_flip()"
   ]
  },
  {
   "cell_type": "markdown",
   "metadata": {},
   "source": [
    "### 원근 변환           \n",
    "\n",
    "- 원근 변환 행렬의 형태는 3*3이다.      \n",
    "- 원근 변환 행렬은 아핀 변환에서 유지되는 수평성은 유지되지 않는다.         \n",
    "- __원근 변환은 뒤틀림이나 원근 왜곡을 포함__ 하므로 더 많은 미지수를 요구한다.       "
   ]
  },
  {
   "cell_type": "markdown",
   "metadata": {},
   "source": [
    "![원근변환](./PostingPic/perspective.jpg)"
   ]
  },
  {
   "cell_type": "markdown",
   "metadata": {},
   "source": [
    "> Q9. python opencv의 원근 맵 행렬 생성 함수와, 원근 변환 함수는 어떻게 생겼나요?"
   ]
  },
  {
   "cell_type": "markdown",
   "metadata": {},
   "source": [
    "> Q10. 예제 6.8(python opencv의 원근 변환)를 참고하여, 이미지를 원근 변환 시켜보세요."
   ]
  },
  {
   "cell_type": "markdown",
   "metadata": {},
   "source": [
    "## 4. 모폴로지 변환          \n",
    "\n",
    "- 모폴로지 변환이란, __영상이나 이미지를 형태학적 관점에서 접근하는 기법을 의미한다.__          \n",
    "- 모폴로지 변환은 주로 영상 내 픽셀 값 대체에 사용되는데, 이를 통해 __노이즈 제거, 요소 결합 및 분리, 강도 피크 검출 등에 이용할 수 있다.__   \n",
    "\n",
    "- 모폴로지 변환에서는\n",
    "    1. 집합의 포함 관계, \n",
    "    2. 이동(translation), \n",
    "    3. 대칭(reflection),\n",
    "    4. 여집합(complement),\n",
    "    5. 차집합(difference)       \n",
    "    성질을 활용한다.\n",
    "    \n",
    "  \n",
    "1. 기본적인 모폴로지 변환으로는 __팽창과 침식__ 이 있다. \n",
    "- 팽창과 침식은 이미지와 커널의 콘볼루션 연산이다.    \n",
    "- 모폴로지 변환을 통해 __피크__ 를 검출하거나, __그래디언트__ 를 정의할 수 있다.       \n",
    "\n",
    "2. 팽창은 커널 영역 안에 있는 모든 픽셀의 값을 커널 내부의 __극대값__ 으로 대체한다.       \n",
    "- 구조 요소를 활용해 이웃한 픽셀을 최대 픽셀값으로 대체한다.     \n",
    "- 팽창 연산을 적용하면 어두운 영역이 줄어들고, 밝은 영역이 늘어난다.      \n",
    "- 커널의 크기나 반복 횟수에 따라 밝은 영역이 늘어나 스펙클이 커지고, 객체 내부의 홀이 사라진다.      \n",
    "- 노이즈 제거 후 줄어든 크기를 복구하고자 할 때 주로 사용한다.     \n",
    "- 스펙클 : 작은 반점       \n",
    "\n",
    "3. 침식은 커널 영역 안에 있는 모든 픽셀의 값을 커널 내부의 __극소값__ 으로 대체한다.    \n",
    "- 구조 요소를 활용해 이웃한 픽셀을 최소 픽셀값으로 대체한다.       \n",
    "- 밝은 영역이 줄어들고, 어두운 영역이 늘어난다.         \n",
    "- 스펙클이 줄어들고, 객체 내부의 홀이 커진다.        \n",
    "- 노이즈 제거에 주로 사용한다.         \n",
    "\n"
   ]
  },
  {
   "cell_type": "markdown",
   "metadata": {},
   "source": [
    "> Q11. python opencv의 구조 요소 생성 함수는 어떻게 생겼나요?"
   ]
  },
  {
   "cell_type": "markdown",
   "metadata": {},
   "source": [
    "4. 구조요소 생성 함수는 __커널의 형태를 설정할 수 있으며, 직사각형, 십자가, 타원 모양으로__ 구조 요소를 생성한다.      "
   ]
  },
  {
   "cell_type": "markdown",
   "metadata": {},
   "source": [
    "> Q12. python opencv의 팽창 함수는 어떻게 생겼나요?"
   ]
  },
  {
   "cell_type": "markdown",
   "metadata": {},
   "source": [
    "> Q13. python opencv의 침식 함수는 어떻게 생겼나요?"
   ]
  },
  {
   "cell_type": "markdown",
   "metadata": {},
   "source": [
    "> Q14. 예제 6.10(python opencv의 모폴로지 침식)을 활용하여 이미지를 변경시켜 보세요."
   ]
  },
  {
   "cell_type": "markdown",
   "metadata": {},
   "source": [
    "### 모폴로지 연산       \n",
    "\n",
    "- 모폴로지 연산은 __모폴로지 변환 + 고급 형태학을 적용하는 변환 연산__ 이다.        \n",
    "- 입력 이미지가 이진화 된 이미지라면 팽창과 침식 연산으로도 우수한 결과를 얻는다.      \n",
    "- 하지만, 일반적인 이미지는 다중 채널 이미지를 이용하기 때문에 더 복잡한 연산이 필요하다.   \n",
    "- 이 때, 모폴로지 연산을 활용해 우수한 결과를 얻을 수 있다."
   ]
  },
  {
   "cell_type": "markdown",
   "metadata": {},
   "source": [
    "> Q15.python opencv의 모폴로지 연산 함수는 어떻게 생겼나요? 각 부분은 어떤 의미를 갖나요?"
   ]
  },
  {
   "cell_type": "markdown",
   "metadata": {},
   "source": [
    "#### 1. 열림 연산       \n",
    "\n",
    "열림 연산 : 팽창 연산자 + 침식 연산자의 조합. 침식 연산 이후 팽창 연산을 적용한다.         "
   ]
  },
  {
   "cell_type": "markdown",
   "metadata": {},
   "source": [
    "#### 2. 닫힘 연산              \n",
    "\n",
    "닫힘 연산 : 팽창 연산자 + 침식 연산자의 조합. 팽창 연산 후 침식 연산을 적용한다."
   ]
  },
  {
   "cell_type": "markdown",
   "metadata": {},
   "source": [
    "#### 3. 그래디언트 연산            \n",
    "\n",
    "그래디언트 연산 : 팽창 연산자 + 침식 연산자의 조합. 입력 이미지에 각각 팽창, 침식을 적용하고 감산을 진행한다.      \n",
    "    - 각각의 연산을 감산하게 되면, 객체의 가장자리가 반환된다.   \n",
    "    - 그래디언트는 밝은 영역의 가장자리를 분리하며 그레이스케일 이미지가 가장 급격하게 변하는 곳에서 가장 높은 결과를 반환한다.       \n",
    "    - (즉, 선을 뚜렷하게 나타나게 한다.)"
   ]
  },
  {
   "cell_type": "markdown",
   "metadata": {},
   "source": [
    "#### 4. 탑햇 연산        \n",
    "\n",
    "탑햇 연산 : 입력 이미지에 열림 연산을 적용한 이미지를 감산한다. (이미지 + 열림 연산 + 감산)        "
   ]
  },
  {
   "cell_type": "markdown",
   "metadata": {},
   "source": [
    "#### 5. 블랙햇 연산          \n",
    "\n",
    "블랙햇 연산 : 입력 이미지에 닫힘 연산을 적용한 이미지를 감산한다. (이미지 + 닫힘 연산 + 감산)    "
   ]
  },
  {
   "cell_type": "markdown",
   "metadata": {},
   "source": [
    "#### 6. 히트미스 연산         \n",
    "\n",
    "히트미스 연산 : 히트미스 연산은 단일 채널 이미지에 적용되며, 주로 이진화 이미지에 적용한다.      \n",
    "    - 내부 요소의 값은 0 혹은 1만 의미가 있다.      \n",
    "    - 0은 해당 픽셀을 무시한다, 1은 해당 픽셀을 고려한다는 의미이다.     \n",
    "    - 이 특성 덕분에 히트미스 연산을 __모서리를 검출하는 데 활용하기도 한다.__"
   ]
  },
  {
   "cell_type": "markdown",
   "metadata": {},
   "source": [
    "> Q16. 예제 6.12(python opencv에서의 모폴로지 히트미스) 를 이용하여 이미지를 변환시켜 보세요."
   ]
  }
 ],
 "metadata": {
  "kernelspec": {
   "display_name": "aiffel",
   "language": "python",
   "name": "aiffel"
  },
  "language_info": {
   "codemirror_mode": {
    "name": "ipython",
    "version": 3
   },
   "file_extension": ".py",
   "mimetype": "text/x-python",
   "name": "python",
   "nbconvert_exporter": "python",
   "pygments_lexer": "ipython3",
   "version": "3.7.9"
  }
 },
 "nbformat": 4,
 "nbformat_minor": 4
}
